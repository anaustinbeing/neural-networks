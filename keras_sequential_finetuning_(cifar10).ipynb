{
  "nbformat": 4,
  "nbformat_minor": 0,
  "metadata": {
    "colab": {
      "provenance": [],
      "collapsed_sections": [],
      "authorship_tag": "ABX9TyN0LPK1/bghJxSv0eCUWXsI",
      "include_colab_link": true
    },
    "kernelspec": {
      "name": "python3",
      "display_name": "Python 3"
    },
    "language_info": {
      "name": "python"
    }
  },
  "cells": [
    {
      "cell_type": "markdown",
      "metadata": {
        "id": "view-in-github",
        "colab_type": "text"
      },
      "source": [
        "<a href=\"https://colab.research.google.com/github/anaustinbeing/neural-networks/blob/main/keras_sequential_finetuning_(cifar10).ipynb\" target=\"_parent\"><img src=\"https://colab.research.google.com/assets/colab-badge.svg\" alt=\"Open In Colab\"/></a>"
      ]
    },
    {
      "cell_type": "markdown",
      "source": [
        "# Implementing a multi-layer ANN on Cifar10 dataset using Keras Sequential and finetuning hyperparameters."
      ],
      "metadata": {
        "id": "s7vT80UJ2Hk9"
      }
    },
    {
      "cell_type": "markdown",
      "source": [
        "Importing the necessary modules:"
      ],
      "metadata": {
        "id": "LtIuFHKEDo96"
      }
    },
    {
      "cell_type": "code",
      "source": [
        "import pandas as pd\n",
        "import numpy as np\n",
        "\n",
        "from sklearn.neural_network import MLPClassifier\n",
        "from sklearn.model_selection import train_test_split\n",
        "from sklearn.metrics import accuracy_score, explained_variance_score\n",
        "\n",
        "from tensorflow.keras.models import Sequential\n",
        "from tensorflow.keras import layers, datasets\n",
        "import tensorflow.keras as keras\n",
        "import tensorflow as tf"
      ],
      "metadata": {
        "id": "_r49nync6b4O"
      },
      "execution_count": null,
      "outputs": []
    },
    {
      "cell_type": "markdown",
      "source": [
        "Loading the dataset:"
      ],
      "metadata": {
        "id": "O0By6knRDtkZ"
      }
    },
    {
      "cell_type": "code",
      "source": [
        "(train_images, train_labels), (test_images, test_labels) = datasets.cifar10.load_data()\n",
        "train_images, test_images = train_images / 255.0, test_images / 255.0"
      ],
      "metadata": {
        "colab": {
          "base_uri": "https://localhost:8080/"
        },
        "id": "C9aXGD0S6vwO",
        "outputId": "3d1763c7-6649-469c-ceea-105919a3a0b8"
      },
      "execution_count": null,
      "outputs": [
        {
          "output_type": "stream",
          "name": "stdout",
          "text": [
            "Downloading data from https://www.cs.toronto.edu/~kriz/cifar-10-python.tar.gz\n",
            "170498071/170498071 [==============================] - 2s 0us/step\n"
          ]
        }
      ]
    },
    {
      "cell_type": "markdown",
      "source": [
        "Exploring the dataset:"
      ],
      "metadata": {
        "id": "X1qTIpjvD06K"
      }
    },
    {
      "cell_type": "code",
      "source": [
        "train_images.shape, train_labels.shape"
      ],
      "metadata": {
        "colab": {
          "base_uri": "https://localhost:8080/"
        },
        "id": "axO4EGUoD8jh",
        "outputId": "f403af35-12a5-4f39-fa21-a7d908da5ec1"
      },
      "execution_count": null,
      "outputs": [
        {
          "output_type": "execute_result",
          "data": {
            "text/plain": [
              "((50000, 32, 32, 3), (50000, 1))"
            ]
          },
          "metadata": {},
          "execution_count": 4
        }
      ]
    },
    {
      "cell_type": "code",
      "source": [
        "test_images.shape, test_images.shape"
      ],
      "metadata": {
        "colab": {
          "base_uri": "https://localhost:8080/"
        },
        "id": "QTxhJ7pNECKT",
        "outputId": "2a0571a6-f2be-4796-804d-2d828b964381"
      },
      "execution_count": null,
      "outputs": [
        {
          "output_type": "execute_result",
          "data": {
            "text/plain": [
              "((10000, 32, 32, 3), (10000, 32, 32, 3))"
            ]
          },
          "metadata": {},
          "execution_count": 5
        }
      ]
    },
    {
      "cell_type": "markdown",
      "source": [
        "Finding the unique values in the target column:"
      ],
      "metadata": {
        "id": "LIu6zd4REJlX"
      }
    },
    {
      "cell_type": "code",
      "source": [
        "np.unique(train_labels)"
      ],
      "metadata": {
        "colab": {
          "base_uri": "https://localhost:8080/"
        },
        "id": "VKc4MCTS708y",
        "outputId": "a5b17e6e-f6a0-4b95-cee4-178539d18bfe"
      },
      "execution_count": null,
      "outputs": [
        {
          "output_type": "execute_result",
          "data": {
            "text/plain": [
              "array([0, 1, 2, 3, 4, 5, 6, 7, 8, 9], dtype=uint8)"
            ]
          },
          "metadata": {},
          "execution_count": 6
        }
      ]
    },
    {
      "cell_type": "markdown",
      "source": [
        "We find that there are 10 unique values in the target column, which means there are 10 classes. So, we will have 10 neurons in the output for the neural network."
      ],
      "metadata": {
        "id": "ywbtghSqDY3c"
      }
    },
    {
      "cell_type": "code",
      "execution_count": null,
      "metadata": {
        "colab": {
          "base_uri": "https://localhost:8080/"
        },
        "id": "b2ygg4kc6JCU",
        "outputId": "c910c08b-d180-4c7b-ce63-eac06704a1b0"
      },
      "outputs": [
        {
          "output_type": "stream",
          "name": "stdout",
          "text": [
            "Epoch 1/10\n",
            "1563/1563 [==============================] - 31s 17ms/step - loss: 1.9907 - accuracy: 0.2582 - val_loss: 1.8361 - val_accuracy: 0.3159\n",
            "Epoch 2/10\n",
            "1563/1563 [==============================] - 27s 17ms/step - loss: 1.7687 - accuracy: 0.3528 - val_loss: 1.6956 - val_accuracy: 0.3859\n",
            "Epoch 3/10\n",
            "1563/1563 [==============================] - 30s 19ms/step - loss: 1.6816 - accuracy: 0.3872 - val_loss: 1.6400 - val_accuracy: 0.4102\n",
            "Epoch 4/10\n",
            "1563/1563 [==============================] - 27s 17ms/step - loss: 1.6197 - accuracy: 0.4137 - val_loss: 1.6142 - val_accuracy: 0.4218\n",
            "Epoch 5/10\n",
            "1563/1563 [==============================] - 25s 16ms/step - loss: 1.5743 - accuracy: 0.4317 - val_loss: 1.5674 - val_accuracy: 0.4355\n",
            "Epoch 6/10\n",
            "1563/1563 [==============================] - 25s 16ms/step - loss: 1.5355 - accuracy: 0.4451 - val_loss: 1.5657 - val_accuracy: 0.4397\n",
            "Epoch 7/10\n",
            "1563/1563 [==============================] - 25s 16ms/step - loss: 1.5057 - accuracy: 0.4546 - val_loss: 1.5189 - val_accuracy: 0.4561\n",
            "Epoch 8/10\n",
            "1563/1563 [==============================] - 27s 17ms/step - loss: 1.4795 - accuracy: 0.4659 - val_loss: 1.5013 - val_accuracy: 0.4649\n",
            "Epoch 9/10\n",
            "1563/1563 [==============================] - 24s 16ms/step - loss: 1.4558 - accuracy: 0.4769 - val_loss: 1.4958 - val_accuracy: 0.4622\n",
            "Epoch 10/10\n",
            "1563/1563 [==============================] - 25s 16ms/step - loss: 1.4349 - accuracy: 0.4835 - val_loss: 1.5006 - val_accuracy: 0.4643\n"
          ]
        },
        {
          "output_type": "execute_result",
          "data": {
            "text/plain": [
              "<keras.callbacks.History at 0x7f056855a210>"
            ]
          },
          "metadata": {},
          "execution_count": 17
        }
      ],
      "source": [
        "keras.backend.clear_session()\n",
        "np.random.seed(42)\n",
        "tf.random.set_seed(42)\n",
        "\n",
        "def build_model(n_hidden=20, n_neurons=100, learning_rate=5e-3):\n",
        "  model = tf.keras.Sequential()\n",
        "  model.add(tf.keras.layers.Flatten(input_shape=[32, 32, 3]))\n",
        "  for _ in range(n_hidden):\n",
        "      model.add(tf.keras.layers.Dense(n_neurons,\n",
        "                                      activation=\"swish\",\n",
        "                                      kernel_initializer=\"he_normal\"))\n",
        "  model.add(tf.keras.layers.Dense(10, activation=\"softmax\"))\n",
        "  optimizer = tf.keras.optimizers.Nadam(learning_rate=5e-5)\n",
        "  model.compile(loss=\"sparse_categorical_crossentropy\",\n",
        "                optimizer=optimizer,\n",
        "                metrics=[\"accuracy\"])\n",
        "  return model\n",
        "\n",
        "model = build_model()\n",
        "model.fit(train_images, train_labels, epochs=10, validation_data=(test_images, test_labels), callbacks=[keras.callbacks.EarlyStopping(patience=10)])"
      ]
    },
    {
      "cell_type": "code",
      "source": [
        "model.evaluate(test_images, test_labels)"
      ],
      "metadata": {
        "id": "MyrbZWmZiEOg",
        "colab": {
          "base_uri": "https://localhost:8080/"
        },
        "outputId": "20f12492-574c-4ba6-c96e-25e2ce8762bd"
      },
      "execution_count": null,
      "outputs": [
        {
          "output_type": "stream",
          "name": "stdout",
          "text": [
            "313/313 [==============================] - 1s 4ms/step - loss: 1.5006 - accuracy: 0.4643\n"
          ]
        },
        {
          "output_type": "execute_result",
          "data": {
            "text/plain": [
              "[1.5005723237991333, 0.4643000066280365]"
            ]
          },
          "metadata": {},
          "execution_count": 18
        }
      ]
    },
    {
      "cell_type": "code",
      "source": [
        "predictions = model.predict(test_images)\n",
        "predictions = np.array([np.argmax(x) for x in predictions])\n",
        "print('The original test target value is: ', test_labels[0])\n",
        "print('The predicted test value is: ', predictions[0])"
      ],
      "metadata": {
        "id": "b4GryKKtqx9-",
        "colab": {
          "base_uri": "https://localhost:8080/"
        },
        "outputId": "8730cbac-e34c-4620-9ed6-b148dcdc9c73"
      },
      "execution_count": null,
      "outputs": [
        {
          "output_type": "stream",
          "name": "stdout",
          "text": [
            "313/313 [==============================] - 1s 4ms/step\n",
            "The original test target value is:  [3]\n",
            "The predicted test value is:  3\n"
          ]
        }
      ]
    },
    {
      "cell_type": "markdown",
      "source": [
        "The prediction is correct for the test."
      ],
      "metadata": {
        "id": "D0rhxAlVoLKJ"
      }
    },
    {
      "cell_type": "markdown",
      "source": [
        "### Finetuning hyper parameters:\n",
        "\n",
        "Hyper parameters tuned are:\n",
        "\n",
        "1. Number of hidden layers: (1, 2, 3)\n",
        "2. Number of neurons: range(1, 100)\n",
        "3. Learning rate "
      ],
      "metadata": {
        "id": "ebIBg7_wMaRH"
      }
    },
    {
      "cell_type": "code",
      "source": [
        "from scipy.stats import reciprocal\n",
        "from sklearn.model_selection import RandomizedSearchCV\n",
        "from sklearn.metrics import make_scorer\n",
        "from sklearn.metrics import accuracy_score, precision_score, recall_score\n",
        "from sklearn.model_selection import GridSearchCV\n",
        "\n",
        "param_distribs = {\n",
        "    # \"optimizer\": [\"adam\", \"sgd\"]\n",
        "    \"n_hidden\": list(range(30)),\n",
        "    \"n_neurons\": np.arange(1, 200),\n",
        "    \"learning_rate\": reciprocal(3e-4, 5e-3),\n",
        "}\n",
        "\n",
        "keras_reg = keras.wrappers.scikit_learn.KerasRegressor(build_model)\n",
        "rnd_search_cv = RandomizedSearchCV(keras_reg, param_distribs, n_iter=1, cv=2, verbose=2)\n",
        "rnd_search_cv.fit(train_images, train_labels)\n",
        "rnd_search_cv.best_params_"
      ],
      "metadata": {
        "colab": {
          "base_uri": "https://localhost:8080/"
        },
        "id": "byaAufNcMRI7",
        "outputId": "85b46104-79d7-4780-ad6a-cfd02b6a2e54"
      },
      "execution_count": null,
      "outputs": [
        {
          "output_type": "stream",
          "name": "stderr",
          "text": [
            "/usr/local/lib/python3.7/dist-packages/ipykernel_launcher.py:23: DeprecationWarning: KerasRegressor is deprecated, use Sci-Keras (https://github.com/adriangb/scikeras) instead. See https://www.adriangb.com/scikeras/stable/migration.html for help migrating.\n"
          ]
        },
        {
          "output_type": "stream",
          "name": "stdout",
          "text": [
            "Fitting 2 folds for each of 1 candidates, totalling 2 fits\n",
            "782/782 [==============================] - 14s 8ms/step - loss: 2.2385 - accuracy: 0.1487\n",
            "782/782 [==============================] - 3s 3ms/step - loss: 2.1873 - accuracy: 0.1954\n",
            "[CV] END learning_rate=0.002352378152341783, n_hidden=28, n_neurons=21; total time=  22.5s\n",
            "782/782 [==============================] - 13s 8ms/step - loss: 2.2373 - accuracy: 0.1497\n",
            "782/782 [==============================] - 3s 3ms/step - loss: 2.1818 - accuracy: 0.1825\n",
            "[CV] END learning_rate=0.002352378152341783, n_hidden=28, n_neurons=21; total time=  21.0s\n",
            "1563/1563 [==============================] - 20s 9ms/step - loss: 2.2093 - accuracy: 0.1693\n"
          ]
        },
        {
          "output_type": "execute_result",
          "data": {
            "text/plain": [
              "{'learning_rate': 0.002352378152341783, 'n_hidden': 28, 'n_neurons': 21}"
            ]
          },
          "metadata": {},
          "execution_count": 28
        }
      ]
    },
    {
      "cell_type": "markdown",
      "source": [
        "We see that the best learning rate from the range is 0.00235, best number of hidden layers is 28 and the number of neurons in the hidden layer is 21."
      ],
      "metadata": {
        "id": "xKn93ApRTOqn"
      }
    },
    {
      "cell_type": "code",
      "source": [
        "best_params = rnd_search_cv.best_params_"
      ],
      "metadata": {
        "id": "cBM8zEzkPmrD"
      },
      "execution_count": null,
      "outputs": []
    },
    {
      "cell_type": "markdown",
      "source": [
        "Now we will build the model again with the best parameters we found out in the previous step."
      ],
      "metadata": {
        "id": "Q4-lYMVjVfkX"
      }
    },
    {
      "cell_type": "code",
      "source": [
        "def build_model(n_hidden, n_neurons, learning_rate):\n",
        "  model = tf.keras.Sequential()\n",
        "  model.add(tf.keras.layers.Flatten(input_shape=[32, 32, 3]))\n",
        "  for _ in range(n_hidden):\n",
        "      model.add(tf.keras.layers.Dense(n_neurons,\n",
        "                                      activation=\"swish\",\n",
        "                                      kernel_initializer=\"he_normal\"))\n",
        "  model.add(tf.keras.layers.Dense(10, activation=\"softmax\"))\n",
        "  optimizer = tf.keras.optimizers.Nadam(learning_rate=5e-5)\n",
        "  model.compile(loss=\"sparse_categorical_crossentropy\",\n",
        "                optimizer=optimizer,\n",
        "                metrics=[\"accuracy\"])\n",
        "  return model\n",
        "\n",
        "model = build_model(best_params['n_hidden'], best_params['n_neurons'], best_params['learning_rate'])\n",
        "model.fit(train_images, train_labels, epochs=10, validation_data=(test_images, test_labels), callbacks=[keras.callbacks.EarlyStopping(patience=10)])"
      ],
      "metadata": {
        "id": "NTKUwDNUUqT9",
        "colab": {
          "base_uri": "https://localhost:8080/"
        },
        "outputId": "367f4039-c389-414b-e6ee-51effc9aeb21"
      },
      "execution_count": null,
      "outputs": [
        {
          "output_type": "stream",
          "name": "stdout",
          "text": [
            "Epoch 1/10\n",
            "1563/1563 [==============================] - 20s 9ms/step - loss: 2.1827 - accuracy: 0.1671 - val_loss: 2.0835 - val_accuracy: 0.1942\n",
            "Epoch 2/10\n",
            "1563/1563 [==============================] - 13s 8ms/step - loss: 2.0215 - accuracy: 0.2166 - val_loss: 1.9842 - val_accuracy: 0.2291\n",
            "Epoch 3/10\n",
            "1563/1563 [==============================] - 15s 9ms/step - loss: 1.9660 - accuracy: 0.2442 - val_loss: 1.9563 - val_accuracy: 0.2490\n",
            "Epoch 4/10\n",
            "1563/1563 [==============================] - 14s 9ms/step - loss: 1.9375 - accuracy: 0.2590 - val_loss: 1.9282 - val_accuracy: 0.2601\n",
            "Epoch 5/10\n",
            "1563/1563 [==============================] - 13s 8ms/step - loss: 1.9194 - accuracy: 0.2650 - val_loss: 1.9177 - val_accuracy: 0.2641\n",
            "Epoch 6/10\n",
            "1563/1563 [==============================] - 14s 9ms/step - loss: 1.9040 - accuracy: 0.2714 - val_loss: 1.9119 - val_accuracy: 0.2714\n",
            "Epoch 7/10\n",
            "1563/1563 [==============================] - 13s 8ms/step - loss: 1.8883 - accuracy: 0.2749 - val_loss: 1.9082 - val_accuracy: 0.2751\n",
            "Epoch 8/10\n",
            "1563/1563 [==============================] - 13s 9ms/step - loss: 1.8685 - accuracy: 0.2783 - val_loss: 1.8665 - val_accuracy: 0.2896\n",
            "Epoch 9/10\n",
            "1563/1563 [==============================] - 14s 9ms/step - loss: 1.8577 - accuracy: 0.2802 - val_loss: 1.8677 - val_accuracy: 0.2778\n",
            "Epoch 10/10\n",
            "1563/1563 [==============================] - 14s 9ms/step - loss: 1.8415 - accuracy: 0.2853 - val_loss: 1.8434 - val_accuracy: 0.2894\n"
          ]
        },
        {
          "output_type": "execute_result",
          "data": {
            "text/plain": [
              "<keras.callbacks.History at 0x7f055d505310>"
            ]
          },
          "metadata": {},
          "execution_count": 30
        }
      ]
    },
    {
      "cell_type": "code",
      "source": [
        "model.evaluate(test_images, test_labels)"
      ],
      "metadata": {
        "colab": {
          "base_uri": "https://localhost:8080/"
        },
        "id": "q5dB9B9LRFx3",
        "outputId": "eaa6f29f-bbfd-4f7e-a6c8-12c55b72d435"
      },
      "execution_count": null,
      "outputs": [
        {
          "output_type": "stream",
          "name": "stdout",
          "text": [
            "313/313 [==============================] - 1s 3ms/step - loss: 1.8434 - accuracy: 0.2894\n"
          ]
        },
        {
          "output_type": "execute_result",
          "data": {
            "text/plain": [
              "[1.8433630466461182, 0.28940001130104065]"
            ]
          },
          "metadata": {},
          "execution_count": 31
        }
      ]
    },
    {
      "cell_type": "code",
      "source": [
        "predictions = model.predict(test_images)\n",
        "predictions = np.array([np.argmax(x) for x in predictions])\n",
        "print('The original test target value is: ', test_labels[0])\n",
        "print('The predicted test value is: ', predictions[0])\n",
        "print('The original test target value is: ', test_labels[1])\n",
        "print('The predicted test value is: ', predictions[1])"
      ],
      "metadata": {
        "colab": {
          "base_uri": "https://localhost:8080/"
        },
        "id": "v3tOThxXRMOF",
        "outputId": "76172f96-50a0-4524-fc0f-40070d625716"
      },
      "execution_count": null,
      "outputs": [
        {
          "output_type": "stream",
          "name": "stdout",
          "text": [
            "313/313 [==============================] - 1s 3ms/step\n",
            "The original test target value is:  [3]\n",
            "The predicted test value is:  7\n",
            "The original test target value is:  [8]\n",
            "The predicted test value is:  8\n"
          ]
        }
      ]
    }
  ]
}