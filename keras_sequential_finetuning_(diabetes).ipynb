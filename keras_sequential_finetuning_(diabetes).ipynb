{
  "nbformat": 4,
  "nbformat_minor": 0,
  "metadata": {
    "colab": {
      "provenance": [],
      "collapsed_sections": [],
      "authorship_tag": "ABX9TyPaNAVHnw0CtL57VhDdBZCq",
      "include_colab_link": true
    },
    "kernelspec": {
      "name": "python3",
      "display_name": "Python 3"
    },
    "language_info": {
      "name": "python"
    }
  },
  "cells": [
    {
      "cell_type": "markdown",
      "metadata": {
        "id": "view-in-github",
        "colab_type": "text"
      },
      "source": [
        "<a href=\"https://colab.research.google.com/github/anaustinbeing/neural-networks/blob/main/keras_sequential_finetuning_(diabetes).ipynb\" target=\"_parent\"><img src=\"https://colab.research.google.com/assets/colab-badge.svg\" alt=\"Open In Colab\"/></a>"
      ]
    },
    {
      "cell_type": "markdown",
      "source": [
        "# Implementing a multi-layer ANN on diabetes dataset using Keras Sequential and finetuning hyperparameters."
      ],
      "metadata": {
        "id": "b-P1Y3q32_CU"
      }
    },
    {
      "cell_type": "code",
      "execution_count": null,
      "metadata": {
        "id": "m8u5_Xvb98Dp"
      },
      "outputs": [],
      "source": [
        "import tensorflow as tf\n",
        "from tensorflow import keras\n",
        "import numpy as np\n",
        "import pandas as pd\n",
        "from sklearn.model_selection import train_test_split\n",
        "from sklearn.preprocessing import LabelEncoder"
      ]
    },
    {
      "cell_type": "code",
      "source": [
        "np.random.seed(42)"
      ],
      "metadata": {
        "id": "dpMwMoN8dYtE"
      },
      "execution_count": null,
      "outputs": []
    },
    {
      "cell_type": "code",
      "source": [
        "df = pd.read_csv('diabetes_noheaders.csv', header=None)"
      ],
      "metadata": {
        "id": "6PYctmXg-ZBF"
      },
      "execution_count": null,
      "outputs": []
    },
    {
      "cell_type": "code",
      "source": [
        "X, y = df.values[:, :-1], df.values[:, -1]\n",
        "X = X.astype('float32')"
      ],
      "metadata": {
        "id": "Z93RBC4u-ilJ"
      },
      "execution_count": null,
      "outputs": []
    },
    {
      "cell_type": "markdown",
      "source": [
        "Splitting data into training and testing:"
      ],
      "metadata": {
        "id": "j6XFpJZ9TY5i"
      }
    },
    {
      "cell_type": "code",
      "source": [
        "X_train, X_test, y_train, y_test = train_test_split(X, y, test_size=0.33)\n",
        "print(X_train.shape, X_test.shape, y_train.shape, y_test.shape)"
      ],
      "metadata": {
        "colab": {
          "base_uri": "https://localhost:8080/"
        },
        "id": "aRduo2io-quQ",
        "outputId": "8f9b65d8-e065-44f7-b81c-ab2ca96371d2"
      },
      "execution_count": null,
      "outputs": [
        {
          "output_type": "stream",
          "name": "stdout",
          "text": [
            "(514, 8) (254, 8) (514,) (254,)\n"
          ]
        }
      ]
    },
    {
      "cell_type": "code",
      "source": [
        "n_features = X_train.shape[1]\n",
        "n_features"
      ],
      "metadata": {
        "colab": {
          "base_uri": "https://localhost:8080/"
        },
        "id": "SV5FBj3E-uvg",
        "outputId": "a598a5f6-7386-4db8-db5b-0ba24350b298"
      },
      "execution_count": null,
      "outputs": [
        {
          "output_type": "execute_result",
          "data": {
            "text/plain": [
              "8"
            ]
          },
          "metadata": {},
          "execution_count": 45
        }
      ]
    },
    {
      "cell_type": "code",
      "source": [
        "model = keras.models.Sequential()\n",
        "# input layer with 8 neurons\n",
        "model.add(keras.layers.Dense(n_features))\n",
        "# add the first hidden layer with 32 neurons, relu activation function\n",
        "model.add(keras.layers.Dense(32, activation=\"relu\", kernel_initializer='he_normal'))\n",
        "# add the second hidden layer with 16 neurons, relu activation function\n",
        "model.add(keras.layers.Dense(16, activation=\"relu\", kernel_initializer='he_normal'))\n",
        "# add the output layer with 1 neurons, sigmoid activation function\n",
        "model.add(keras.layers.Dense(1, activation=\"sigmoid\"))"
      ],
      "metadata": {
        "id": "M5-ZmTCj-vYX"
      },
      "execution_count": null,
      "outputs": []
    },
    {
      "cell_type": "code",
      "source": [
        "model.compile(optimizer='adam', loss='binary_crossentropy', metrics=['accuracy'])"
      ],
      "metadata": {
        "id": "mnujYNDN_nxk"
      },
      "execution_count": null,
      "outputs": []
    },
    {
      "cell_type": "code",
      "source": [
        "model.fit(X_train, y_train, epochs=150, batch_size=32, verbose=0)"
      ],
      "metadata": {
        "colab": {
          "base_uri": "https://localhost:8080/"
        },
        "id": "IbADkU0i_uBy",
        "outputId": "78343652-7c91-441a-e811-3bb96ab24a16"
      },
      "execution_count": null,
      "outputs": [
        {
          "output_type": "execute_result",
          "data": {
            "text/plain": [
              "<keras.callbacks.History at 0x7fe4a7c20910>"
            ]
          },
          "metadata": {},
          "execution_count": 48
        }
      ]
    },
    {
      "cell_type": "code",
      "source": [
        "loss, acc = model.evaluate(X_test, y_test, verbose=0)\n",
        "print('Test Accuracy: %.3f' % acc)"
      ],
      "metadata": {
        "colab": {
          "base_uri": "https://localhost:8080/"
        },
        "id": "FcXSVxSc_4Jf",
        "outputId": "14f2018c-c043-45f0-caf5-adafafe188b1"
      },
      "execution_count": null,
      "outputs": [
        {
          "output_type": "stream",
          "name": "stdout",
          "text": [
            "Test Accuracy: 0.681\n"
          ]
        }
      ]
    },
    {
      "cell_type": "code",
      "source": [
        "predictions = model.predict(X_test)\n",
        "predictions = np.array([np.round(x) for x in predictions])\n",
        "print('The original test target value is: ', y_test[0])\n",
        "print('The predicted test value is: ', predictions[0])\n",
        "\n",
        "print('\\nTotal predictions: ')\n",
        "print(len(predictions))\n",
        "\n",
        "print('Count of predictions that are correct: ')\n",
        "print(sum(predictions[i] == y_test[i] for i in range(len(predictions)))[0])\n",
        "\n",
        "print('Count of predictions that are not correct: ')\n",
        "print(sum(predictions[i] != y_test[i] for i in range(len(predictions)))[0])"
      ],
      "metadata": {
        "colab": {
          "base_uri": "https://localhost:8080/"
        },
        "id": "jE1v2HIOAQ8j",
        "outputId": "bf423b2f-59fd-4f96-b766-d609ece05ff6"
      },
      "execution_count": null,
      "outputs": [
        {
          "output_type": "stream",
          "name": "stdout",
          "text": [
            "8/8 [==============================] - 0s 2ms/step\n",
            "The original test target value is:  0.0\n",
            "The predicted test value is:  [1.]\n",
            "\n",
            "Total predictions: \n",
            "254\n",
            "Count of predictions that are correct: \n",
            "173\n",
            "Count of predictions that are not correct: \n",
            "81\n"
          ]
        }
      ]
    },
    {
      "cell_type": "code",
      "source": [
        "for i in range(5):\n",
        "  print('For input: ', X_test[i], ', the actual output is ', y_test[i])\n",
        "  print('Predicted output is ', predictions[i][0])\n",
        "  if predictions[i][0] == 1.0:\n",
        "    print(\"Patient has developed diabetes within five years of the initial measurement.\")\n",
        "  else:\n",
        "    print(\"Patient has not developed diabetes within five years of the initial measurement.\")\n",
        "  print()"
      ],
      "metadata": {
        "colab": {
          "base_uri": "https://localhost:8080/"
        },
        "id": "YqS2BbexKPG5",
        "outputId": "9f9aa17d-350b-4747-edab-b43472589d35"
      },
      "execution_count": null,
      "outputs": [
        {
          "output_type": "stream",
          "name": "stdout",
          "text": [
            "For input:  [  6.    98.    58.    33.   190.    34.     0.43  43.  ] , the actual output is  0.0\n",
            "Predicted output is  1.0\n",
            "Patient has developed diabetes within five years of the initial measurement.\n",
            "\n",
            "For input:  [  2.    112.     75.     32.      0.     35.7     0.148  21.   ] , the actual output is  0.0\n",
            "Predicted output is  0.0\n",
            "Patient has not developed diabetes within five years of the initial measurement.\n",
            "\n",
            "For input:  [  2.    108.     64.      0.      0.     30.8     0.158  21.   ] , the actual output is  0.0\n",
            "Predicted output is  0.0\n",
            "Patient has not developed diabetes within five years of the initial measurement.\n",
            "\n",
            "For input:  [  8.    107.     80.      0.      0.     24.6     0.856  34.   ] , the actual output is  0.0\n",
            "Predicted output is  0.0\n",
            "Patient has not developed diabetes within five years of the initial measurement.\n",
            "\n",
            "For input:  [  7.   136.    90.     0.     0.    29.9    0.21  50.  ] , the actual output is  0.0\n",
            "Predicted output is  0.0\n",
            "Patient has not developed diabetes within five years of the initial measurement.\n",
            "\n"
          ]
        }
      ]
    },
    {
      "cell_type": "markdown",
      "source": [
        "We see that most of the predictions are correct."
      ],
      "metadata": {
        "id": "IuH9kgVGSZph"
      }
    },
    {
      "cell_type": "markdown",
      "source": [
        "### FineTuning:"
      ],
      "metadata": {
        "id": "QKvaUJ43DNky"
      }
    },
    {
      "cell_type": "markdown",
      "source": [
        "We are finetuning the number of hidden layers and the number of neurons in the hidden layers."
      ],
      "metadata": {
        "id": "zi-9gSO_SgOU"
      }
    },
    {
      "cell_type": "code",
      "source": [
        "def build_model(n_hidden=2, n_neurons=32):\n",
        "  model = keras.models.Sequential()\n",
        "  # input layer\n",
        "  model.add(keras.layers.Dense(n_features))\n",
        "  for hidden_layer in range(n_hidden):\n",
        "    # add the first hidden layer with 10 neurons, relu activation function\n",
        "    model.add(keras.layers.Dense(n_neurons, activation=\"relu\", kernel_initializer='he_normal'))\n",
        "  # add the output layer with 10 neurons, erlu activation function\n",
        "  model.add(keras.layers.Dense(1, activation=\"sigmoid\"))\n",
        "  model.compile(loss=\"binary_crossentropy\",\n",
        "                optimizer=\"adam\",\n",
        "                metrics=[\"accuracy\"])\n",
        "  return model"
      ],
      "metadata": {
        "id": "VfOUuMuTDwCR"
      },
      "execution_count": null,
      "outputs": []
    },
    {
      "cell_type": "code",
      "source": [
        "from scipy.stats import reciprocal\n",
        "from sklearn.model_selection import RandomizedSearchCV\n",
        "from sklearn.metrics import make_scorer\n",
        "from sklearn.metrics import accuracy_score, precision_score, recall_score\n",
        "from sklearn.model_selection import GridSearchCV\n",
        "\n",
        "param_distribs = {\n",
        "    \"n_hidden\": list(range(30)),\n",
        "    \"n_neurons\": np.arange(1, 200),\n",
        "}\n",
        "\n",
        "keras_reg = keras.wrappers.scikit_learn.KerasRegressor(build_model)\n",
        "rnd_search_cv = RandomizedSearchCV(keras_reg, param_distribs, n_iter=1, cv=2, verbose=2)\n",
        "rnd_search_cv.fit(X_train, y_train)\n",
        "rnd_search_cv.best_params_"
      ],
      "metadata": {
        "colab": {
          "base_uri": "https://localhost:8080/"
        },
        "id": "6gL1bAyfDQYq",
        "outputId": "b1b28dab-cabb-4b89-924f-92b4f54e4848"
      },
      "execution_count": null,
      "outputs": [
        {
          "output_type": "stream",
          "name": "stdout",
          "text": [
            "Fitting 2 folds for each of 1 candidates, totalling 2 fits\n"
          ]
        },
        {
          "output_type": "stream",
          "name": "stderr",
          "text": [
            "/usr/local/lib/python3.7/dist-packages/ipykernel_launcher.py:12: DeprecationWarning: KerasRegressor is deprecated, use Sci-Keras (https://github.com/adriangb/scikeras) instead. See https://www.adriangb.com/scikeras/stable/migration.html for help migrating.\n",
            "  if sys.path[0] == '':\n"
          ]
        },
        {
          "output_type": "stream",
          "name": "stdout",
          "text": [
            "9/9 [==============================] - 1s 5ms/step - loss: 36.6923 - accuracy: 0.5642\n",
            "9/9 [==============================] - 0s 2ms/step - loss: 6.9329 - accuracy: 0.5914\n",
            "[CV] END .........................n_hidden=10, n_neurons=139; total time=   1.3s\n",
            "9/9 [==============================] - 1s 5ms/step - loss: 9.9706 - accuracy: 0.5292\n",
            "9/9 [==============================] - 0s 3ms/step - loss: 3.6098 - accuracy: 0.6809\n",
            "[CV] END .........................n_hidden=10, n_neurons=139; total time=   1.2s\n",
            "17/17 [==============================] - 1s 6ms/step - loss: 8.7361 - accuracy: 0.5759\n"
          ]
        },
        {
          "output_type": "execute_result",
          "data": {
            "text/plain": [
              "{'n_neurons': 139, 'n_hidden': 10}"
            ]
          },
          "metadata": {},
          "execution_count": 53
        }
      ]
    },
    {
      "cell_type": "markdown",
      "source": [
        "After the `RandomizedSearchCV` fit, we get the best parameters from the range we have provided."
      ],
      "metadata": {
        "id": "12VFVA8BSqqW"
      }
    },
    {
      "cell_type": "markdown",
      "source": [
        "Printing the best parameters below:"
      ],
      "metadata": {
        "id": "dK1IyZ3dS2J5"
      }
    },
    {
      "cell_type": "code",
      "source": [
        "best_params = rnd_search_cv.best_params_\n",
        "best_params"
      ],
      "metadata": {
        "colab": {
          "base_uri": "https://localhost:8080/"
        },
        "id": "G1614CN8FBb8",
        "outputId": "218c00e5-180a-4ba4-fad2-a33289234266"
      },
      "execution_count": null,
      "outputs": [
        {
          "output_type": "execute_result",
          "data": {
            "text/plain": [
              "{'n_neurons': 139, 'n_hidden': 10}"
            ]
          },
          "metadata": {},
          "execution_count": 54
        }
      ]
    },
    {
      "cell_type": "markdown",
      "source": [
        "Now we will build the model again with the best parameters we found out in the previous step."
      ],
      "metadata": {
        "id": "2MuYjTT5FMTe"
      }
    },
    {
      "cell_type": "code",
      "source": [
        "def build_model(n_hidden=2, n_neurons=32):\n",
        "  model = keras.models.Sequential()\n",
        "  # input layer\n",
        "  model.add(keras.layers.Dense(n_features))\n",
        "  for hidden_layer in range(n_hidden):\n",
        "    # add the first hidden layer with 10 neurons, relu activation function\n",
        "    model.add(keras.layers.Dense(n_neurons, activation=\"relu\", kernel_initializer='he_normal'))\n",
        "  # add the output layer with 10 neurons, erlu activation function\n",
        "  model.add(keras.layers.Dense(1, activation=\"sigmoid\"))\n",
        "  model.compile(loss=\"binary_crossentropy\",\n",
        "                optimizer=\"adam\",\n",
        "                metrics=[\"accuracy\"])\n",
        "  return model\n",
        "\n",
        "best_model = build_model(best_params['n_hidden'], best_params['n_neurons'])\n",
        "best_model.fit(X_train, y_train, epochs=150, batch_size=32, verbose=0)"
      ],
      "metadata": {
        "colab": {
          "base_uri": "https://localhost:8080/"
        },
        "id": "h0OtxrG1FEQE",
        "outputId": "f950d0ed-f7e5-4f49-cc00-9b53f981863c"
      },
      "execution_count": null,
      "outputs": [
        {
          "output_type": "execute_result",
          "data": {
            "text/plain": [
              "<keras.callbacks.History at 0x7fe4a88f9c50>"
            ]
          },
          "metadata": {},
          "execution_count": 55
        }
      ]
    },
    {
      "cell_type": "code",
      "source": [
        "loss, acc = best_model.evaluate(X_test, y_test, verbose=0)\n",
        "print('Test Accuracy: %.3f' % acc)"
      ],
      "metadata": {
        "colab": {
          "base_uri": "https://localhost:8080/"
        },
        "id": "t95TO9qoFe4D",
        "outputId": "8a126298-9f8a-4d16-dc0c-5ceb80df03b6"
      },
      "execution_count": null,
      "outputs": [
        {
          "output_type": "stream",
          "name": "stdout",
          "text": [
            "Test Accuracy: 0.752\n"
          ]
        }
      ]
    },
    {
      "cell_type": "markdown",
      "source": [
        "We see that the accuracy is greater after the finetuning."
      ],
      "metadata": {
        "id": "kX8pWXszS-7k"
      }
    },
    {
      "cell_type": "code",
      "source": [
        "best_predictions = best_model.predict(X_test)\n",
        "best_predictions = np.array([np.round(x) for x in best_predictions])\n",
        "print('The original test target value is: ', y_test[0])\n",
        "print('The predicted test value is: ', best_predictions[0])\n",
        "\n",
        "print('\\nTotal predictions: ')\n",
        "print(len(best_predictions))\n",
        "\n",
        "print('Count of predictions that are correct: ')\n",
        "print(sum(best_predictions[i] == y_test[i] for i in range(len(best_predictions)))[0])\n",
        "\n",
        "print('Count of predictions that are not correct: ')\n",
        "print(sum(best_predictions[i] != y_test[i] for i in range(len(best_predictions)))[0])"
      ],
      "metadata": {
        "colab": {
          "base_uri": "https://localhost:8080/"
        },
        "id": "fRu_OfhZINRq",
        "outputId": "66c41177-2bc2-43a0-a5db-37c197265b94"
      },
      "execution_count": null,
      "outputs": [
        {
          "output_type": "stream",
          "name": "stdout",
          "text": [
            "8/8 [==============================] - 0s 3ms/step\n",
            "The original test target value is:  0.0\n",
            "The predicted test value is:  [1.]\n",
            "\n",
            "Total predictions: \n",
            "254\n",
            "Count of predictions that are correct: \n",
            "191\n",
            "Count of predictions that are not correct: \n",
            "63\n"
          ]
        }
      ]
    },
    {
      "cell_type": "code",
      "source": [
        "for i in range(5):\n",
        "  print('For input: ', X_test[i], ', the actual output is ', y_test[i])\n",
        "  print('Predicted output is ', best_predictions[i][0])\n",
        "  if best_predictions[i][0] == 1.0:\n",
        "    print(\"Patient has developed diabetes within five years of the initial measurement.\")\n",
        "  else:\n",
        "    print(\"Patient has not developed diabetes within five years of the initial measurement.\")\n",
        "  print()"
      ],
      "metadata": {
        "colab": {
          "base_uri": "https://localhost:8080/"
        },
        "id": "g-bOLjoIJhfV",
        "outputId": "d854add3-d142-4306-de32-62d93481ebee"
      },
      "execution_count": null,
      "outputs": [
        {
          "output_type": "stream",
          "name": "stdout",
          "text": [
            "For input:  [  6.    98.    58.    33.   190.    34.     0.43  43.  ] , the actual output is  0.0\n",
            "Predicted output is  1.0\n",
            "Patient has developed diabetes within five years of the initial measurement.\n",
            "\n",
            "For input:  [  2.    112.     75.     32.      0.     35.7     0.148  21.   ] , the actual output is  0.0\n",
            "Predicted output is  0.0\n",
            "Patient has not developed diabetes within five years of the initial measurement.\n",
            "\n",
            "For input:  [  2.    108.     64.      0.      0.     30.8     0.158  21.   ] , the actual output is  0.0\n",
            "Predicted output is  0.0\n",
            "Patient has not developed diabetes within five years of the initial measurement.\n",
            "\n",
            "For input:  [  8.    107.     80.      0.      0.     24.6     0.856  34.   ] , the actual output is  0.0\n",
            "Predicted output is  0.0\n",
            "Patient has not developed diabetes within five years of the initial measurement.\n",
            "\n",
            "For input:  [  7.   136.    90.     0.     0.    29.9    0.21  50.  ] , the actual output is  0.0\n",
            "Predicted output is  1.0\n",
            "Patient has developed diabetes within five years of the initial measurement.\n",
            "\n"
          ]
        }
      ]
    },
    {
      "cell_type": "markdown",
      "source": [
        "The above is a friendly format of the input, the actual output and the predicted output."
      ],
      "metadata": {
        "id": "iF6cOCqrTNxu"
      }
    }
  ]
}